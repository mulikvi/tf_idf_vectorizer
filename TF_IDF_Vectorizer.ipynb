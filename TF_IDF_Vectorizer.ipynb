{
 "cells": [
  {
   "cell_type": "markdown",
   "metadata": {
    "id": "h9464I-uxLiw"
   },
   "source": [
    "# TF- IDF Vectorizer "
   ]
  },
  {
   "cell_type": "markdown",
   "metadata": {
    "id": "IvLvmewlxLix"
   },
   "source": [
    "<font face='georgia'>\n",
    "    \n",
    "   <h4><strong>What does tf-idf mean?</strong></h4>\n",
    "\n",
    "   <p>    \n",
    "Tf-idf stands for <em>term frequency-inverse document frequency</em>, and the tf-idf weight is a weight often used in information retrieval and text mining. This weight is a statistical measure used to evaluate how important a word is to a document in a collection or corpus. The importance increases proportionally to the number of times a word appears in the document but is offset by the frequency of the word in the corpus. Variations of the tf-idf weighting scheme are often used by search engines as a central tool in scoring and ranking a document's relevance given a user query.\n",
    "</p>\n",
    "    \n",
    "   <p>\n",
    "One of the simplest ranking functions is computed by summing the tf-idf for each query term; many more sophisticated ranking functions are variants of this simple model.\n",
    "</p>\n",
    "    \n",
    "   <p>\n",
    "Tf-idf can be successfully used for stop-words filtering in various subject fields including text summarization and classification.\n",
    "</p>\n",
    "    \n",
    "</font>"
   ]
  },
  {
   "cell_type": "markdown",
   "metadata": {
    "id": "4XLaGFUMxLiy"
   },
   "source": [
    "<font face='georgia'>\n",
    "    <h4><strong>How to Compute:</strong></h4>\n",
    "\n",
    "Typically, the tf-idf weight is composed by two terms: the first computes the normalized Term Frequency (TF), aka. the number of times a word appears in a document, divided by the total number of words in that document; the second term is the Inverse Document Frequency (IDF), computed as the logarithm of the number of the documents in the corpus divided by the number of documents where the specific term appears.\n",
    "\n",
    " <ul>\n",
    "    <li>\n",
    "<strong>TF:</strong> Term Frequency, which measures how frequently a term occurs in a document. Since every document is different in length, it is possible that a term would appear much more times in long documents than shorter ones. Thus, the term frequency is often divided by the document length (aka. the total number of terms in the document) as a way of normalization: <br>\n",
    "\n",
    "$TF(t) = \\frac{\\text{Number of times term t appears in a document}}{\\text{Total number of terms in the document}}.$\n",
    "</li>\n",
    "<li>\n",
    "<strong>IDF:</strong> Inverse Document Frequency, which measures how important a term is. While computing TF, all terms are considered equally important. However it is known that certain terms, such as \"is\", \"of\", and \"that\", may appear a lot of times but have little importance. Thus we need to weigh down the frequent terms while scale up the rare ones, by computing the following: <br>\n",
    "\n",
    "$IDF(t) = \\log_{e}\\frac{\\text{Total  number of documents}} {\\text{Number of documents with term t in it}}.$\n",
    "for numerical stabiltiy we will be changing this formula little bit\n",
    "$IDF(t) = \\log_{e}\\frac{\\text{Total  number of documents}} {\\text{Number of documents with term t in it}+1}.$\n",
    "</li>\n",
    "</ul>\n",
    "\n",
    "<br>\n",
    "<h4><strong>Example</strong></h4>\n",
    "<p>\n",
    "\n",
    "Consider a document containing 100 words wherein the word cat appears 3 times. The term frequency (i.e., tf) for cat is then (3 / 100) = 0.03. Now, assume we have 10 million documents and the word cat appears in one thousand of these. Then, the inverse document frequency (i.e., idf) is calculated as log(10,000,000 / 1,000) = 4. Thus, the Tf-idf weight is the product of these quantities: 0.03 * 4 = 0.12.\n",
    "</p>\n",
    "</font>"
   ]
  },
  {
   "cell_type": "markdown",
   "metadata": {
    "id": "dg2ooa4DxLiz"
   },
   "source": [
    "## Task-1"
   ]
  },
  {
   "cell_type": "markdown",
   "metadata": {
    "id": "TAcTjhO8xLiz"
   },
   "source": [
    "<font face='georgia'>\n",
    "    <h4><strong>1. Built a TFIDF Vectorizer & compared its results with Sklearn:</strong></h4>\n",
    "    <li> Sklearn does few more tweaks in the implementation of its version of TFIDF vectorizer, so to replicate the exact results added following things to the custom implementation of tfidf vectorizer:\n",
    "       <ol>\n",
    "        <li> Sklearn has its vocabulary generated from idf sroted in alphabetical order</li>\n",
    "        <li> Sklearn formula of idf is different from the standard textbook formula. Here the constant <strong>\"1\"</strong> is added to the numerator and denominator of the idf as if an extra document was seen containing every term in the collection exactly once, which prevents zero divisions.\n",
    "            \n",
    " $IDF(t) = 1+\\log_{e}\\frac{1\\text{ }+\\text{ Total  number of documents in collection}} {1+\\text{Number of documents with term t in it}}.$\n",
    "        </li>\n",
    "        <li> Sklearn applies L2-normalization on its output matrix.</li>\n",
    "        <li> The final output of sklearn tfidf vectorizer is a sparse matrix.</li>\n",
    "    </ol>\n",
    "   "
   ]
  },
  {
   "cell_type": "markdown",
   "metadata": {
    "id": "OnV82tg1xLi0"
   },
   "source": [
    "### Corpus"
   ]
  },
  {
   "cell_type": "code",
   "execution_count": 21,
   "metadata": {
    "id": "bUsYm9wjxLi1"
   },
   "outputs": [],
   "source": [
    "## SkLearn# Collection of string documents\n",
    "\n",
    "corpus = [\n",
    "     'this is the first document',\n",
    "     'this document is the second document',\n",
    "     'and this is the third one',\n",
    "     'is this the first document',\n",
    "]"
   ]
  },
  {
   "cell_type": "markdown",
   "metadata": {
    "id": "eLwmFZfKxLi4"
   },
   "source": [
    "### SkLearn Implementation"
   ]
  },
  {
   "cell_type": "code",
   "execution_count": 22,
   "metadata": {
    "id": "Np4dfQOkxLi4"
   },
   "outputs": [],
   "source": [
    "from sklearn.feature_extraction.text import TfidfVectorizer\n",
    "vectorizer = TfidfVectorizer()\n",
    "vectorizer.fit(corpus)\n",
    "skl_output = vectorizer.transform(corpus)"
   ]
  },
  {
   "cell_type": "code",
   "execution_count": 23,
   "metadata": {
    "id": "-7Om8YpYxLi6",
    "outputId": "0a3bd0f5-4424-4400-944f-4482a80bd799"
   },
   "outputs": [
    {
     "name": "stdout",
     "output_type": "stream",
     "text": [
      "['and', 'document', 'first', 'is', 'one', 'second', 'the', 'third', 'this']\n"
     ]
    }
   ],
   "source": [
    "# sklearn feature names, they are sorted in alphabetic order by default.\n",
    "\n",
    "print(vectorizer.get_feature_names())"
   ]
  },
  {
   "cell_type": "code",
   "execution_count": 24,
   "metadata": {
    "id": "dTKplK96xLi-",
    "outputId": "53722fa2-6756-4aa0-f179-37b578bb6890"
   },
   "outputs": [
    {
     "name": "stdout",
     "output_type": "stream",
     "text": [
      "[1.91629073 1.22314355 1.51082562 1.         1.91629073 1.91629073\n",
      " 1.         1.91629073 1.        ]\n"
     ]
    }
   ],
   "source": [
    "# Here we will print the sklearn tfidf vectorizer idf values after applying the fit method\n",
    "# After using the fit function on the corpus the vocab has 9 words in it, and each has its idf value.\n",
    "\n",
    "print(vectorizer.idf_)\n"
   ]
  },
  {
   "cell_type": "code",
   "execution_count": 25,
   "metadata": {
    "id": "-CTiWHygxLjA",
    "outputId": "8d5a9cde-2c29-4afe-f7b4-1547e88dba4f"
   },
   "outputs": [
    {
     "data": {
      "text/plain": [
       "(4, 9)"
      ]
     },
     "execution_count": 25,
     "metadata": {},
     "output_type": "execute_result"
    }
   ],
   "source": [
    "# shape of sklearn tfidf vectorizer output after applying transform method.\n",
    "\n",
    "skl_output.shape"
   ]
  },
  {
   "cell_type": "code",
   "execution_count": 26,
   "metadata": {
    "id": "bDKEpbA-xLjD",
    "outputId": "87dafd65-5313-443f-8c6e-1b05cc8c2543"
   },
   "outputs": [
    {
     "name": "stdout",
     "output_type": "stream",
     "text": [
      "  (0, 8)\t0.38408524091481483\n",
      "  (0, 6)\t0.38408524091481483\n",
      "  (0, 3)\t0.38408524091481483\n",
      "  (0, 2)\t0.5802858236844359\n",
      "  (0, 1)\t0.46979138557992045\n"
     ]
    }
   ],
   "source": [
    "# sklearn tfidf values for first line of the above corpus.\n",
    "# Here the output is a sparse matrix\n",
    "\n",
    "print(skl_output[0])"
   ]
  },
  {
   "cell_type": "code",
   "execution_count": 27,
   "metadata": {
    "id": "3QWo34hexLjF",
    "outputId": "cdc04e08-989f-4bdc-dd7f-f1c82a9f90be"
   },
   "outputs": [
    {
     "name": "stdout",
     "output_type": "stream",
     "text": [
      "[[0.         0.46979139 0.58028582 0.38408524 0.         0.\n",
      "  0.38408524 0.         0.38408524]]\n"
     ]
    }
   ],
   "source": [
    "# sklearn tfidf values for first line of the above corpus.\n",
    "# To understand the output better, here we are converting the sparse output matrix to dense matrix and printing it.\n",
    "# This output is normalized using L2 normalization. sklearn does this by default.\n",
    "\n",
    "print(skl_output[0].toarray())\n",
    "\n"
   ]
  },
  {
   "cell_type": "markdown",
   "metadata": {
    "id": "qfIwx5LzxLjI"
   },
   "source": [
    "### The custom implementation"
   ]
  },
  {
   "cell_type": "code",
   "execution_count": 28,
   "metadata": {
    "id": "HjuCcJwXxLjJ"
   },
   "outputs": [],
   "source": [
    "from collections import Counter\n",
    "from tqdm import tqdm\n",
    "from scipy.sparse import csr_matrix\n",
    "import math\n",
    "import operator\n",
    "from sklearn.preprocessing import normalize\n",
    "import numpy"
   ]
  },
  {
   "cell_type": "code",
   "execution_count": 29,
   "metadata": {
    "scrolled": true
   },
   "outputs": [],
   "source": [
    "def fit(corpus):\n",
    "    \"\"\"\n",
    "        This function finds all unique words in the data , assigns a dimension-number to each unique word \n",
    "        and returns IDF values for all those words \n",
    "    \"\"\"\n",
    "    \n",
    "    unique_words=set()\n",
    "    IDF=dict()\n",
    "    no_of_docs=len(corpus)\n",
    "    \n",
    "    #loop to find the unique words in the corpus \n",
    "    for i in corpus:\n",
    "        for j in i.split(\" \"):\n",
    "            unique_words.add(j)\n",
    "                \n",
    "    unique_words=sorted(list(unique_words))\n",
    "    #Assigning a dimension no to each word in corpus \n",
    "    features={i:j for j,i in enumerate(unique_words)}\n",
    "    \n",
    "    \n",
    "    #Loop to calcuate the IDF of terms\n",
    "    for i in features.keys():\n",
    "        word_freq_in_docs=0\n",
    "        for j in corpus:\n",
    "            if i in j:\n",
    "                word_freq_in_docs+=1\n",
    "        IDF[i]=1+math.log((1+no_of_docs)/(1+word_freq_in_docs))\n",
    "    \n",
    "    \n",
    "    return features,IDF\n",
    "\n",
    "\n"
   ]
  },
  {
   "cell_type": "code",
   "execution_count": 30,
   "metadata": {},
   "outputs": [
    {
     "name": "stdout",
     "output_type": "stream",
     "text": [
      "Features and dimension no\n",
      "{'and': 0, 'document': 1, 'first': 2, 'is': 3, 'one': 4, 'second': 5, 'the': 6, 'third': 7, 'this': 8}\n",
      "****************************************************************************************************\n",
      "IDF Values\n",
      "{'and': 1.916290731874155, 'document': 1.2231435513142097, 'first': 1.5108256237659907, 'is': 1.0, 'one': 1.916290731874155, 'second': 1.916290731874155, 'the': 1.0, 'third': 1.916290731874155, 'this': 1.0}\n"
     ]
    }
   ],
   "source": [
    "features,IDF=fit(corpus)\n",
    "print(\"Features and dimension no\")\n",
    "print(features)\n",
    "print(\"*\"*100)\n",
    "print(\"IDF Values\")\n",
    "print(IDF)"
   ]
  },
  {
   "cell_type": "code",
   "execution_count": 31,
   "metadata": {
    "scrolled": false
   },
   "outputs": [],
   "source": [
    "def transform(corpus,features,IDF):\n",
    "    \n",
    "    \"\"\"\n",
    "        This function returns a TF-IDF vector for all the documents in the dataset as a sparse matrix \"\"\"\n",
    "\n",
    "    rows=[]\n",
    "    columns=[]\n",
    "    values=[]\n",
    "    \n",
    "    #Loop to find the TF-IDF values for each document in the dataset\n",
    "    for i,j in list(enumerate(corpus)):\n",
    "        words_in_doc=j.split(\" \")\n",
    "        doc_size=len(words_in_doc)\n",
    "        \n",
    "        for j in set(words_in_doc):\n",
    "            if features.get(j)!=None:\n",
    "                #Finding the TF value\n",
    "                TF=words_in_doc.count(j)/doc_size\n",
    "                idf=IDF[j]\n",
    "                rows.append(i)\n",
    "                columns.append(features[j])\n",
    "                values.append(TF*idf)\n",
    "        \n",
    "        #Returning a sparse matrix for the TF-IDF vectors\n",
    "    return csr_matrix((values, (rows,columns)), shape=(len(corpus),len(features)))\n",
    "            \n"
   ]
  },
  {
   "cell_type": "code",
   "execution_count": 32,
   "metadata": {
    "scrolled": false
   },
   "outputs": [
    {
     "name": "stdout",
     "output_type": "stream",
     "text": [
      "Sparse Matrix\n",
      "****************************************************************************************************\n",
      "  (0, 1)\t0.4697913855799205\n",
      "  (0, 2)\t0.580285823684436\n",
      "  (0, 3)\t0.3840852409148149\n",
      "  (0, 6)\t0.3840852409148149\n",
      "  (0, 8)\t0.3840852409148149\n",
      "  (1, 1)\t0.6876235979836937\n",
      "  (1, 3)\t0.2810886740337529\n",
      "  (1, 5)\t0.5386476208856762\n",
      "  (1, 6)\t0.2810886740337529\n",
      "  (1, 8)\t0.2810886740337529\n",
      "  (2, 0)\t0.511848512707169\n",
      "  (2, 3)\t0.267103787642168\n",
      "  (2, 4)\t0.511848512707169\n",
      "  (2, 6)\t0.267103787642168\n",
      "  (2, 7)\t0.511848512707169\n",
      "  (2, 8)\t0.267103787642168\n",
      "  (3, 1)\t0.4697913855799205\n",
      "  (3, 2)\t0.580285823684436\n",
      "  (3, 3)\t0.3840852409148149\n",
      "  (3, 6)\t0.3840852409148149\n",
      "  (3, 8)\t0.3840852409148149\n",
      "\n",
      "Dense Matrix\n",
      "****************************************************************************************************\n",
      "[[0.         0.46979139 0.58028582 0.38408524 0.         0.\n",
      "  0.38408524 0.         0.38408524]\n",
      " [0.         0.6876236  0.         0.28108867 0.         0.53864762\n",
      "  0.28108867 0.         0.28108867]\n",
      " [0.51184851 0.         0.         0.26710379 0.51184851 0.\n",
      "  0.26710379 0.51184851 0.26710379]\n",
      " [0.         0.46979139 0.58028582 0.38408524 0.         0.\n",
      "  0.38408524 0.         0.38408524]]\n"
     ]
    }
   ],
   "source": [
    "vector=normalize(transform(corpus,features,IDF), norm='l2', axis=1, copy=True, \n",
    "                 return_norm=False)\n",
    "print(\"Sparse Matrix\")\n",
    "print(\"*\"*100)\n",
    "print(vector)      \n",
    "print(\"\\nDense Matrix\")\n",
    "print(\"*\"*100)\n",
    "#Returning a dense matrix for the TF-IDF vectors\n",
    "print(vector.toarray())"
   ]
  },
  {
   "cell_type": "code",
   "execution_count": 33,
   "metadata": {
    "id": "NHxPLlwNxLjL",
    "outputId": "9abd8e08-0e24-4975-9a13-4d3636d60323"
   },
   "outputs": [
    {
     "name": "stdout",
     "output_type": "stream",
     "text": [
      "Number of documents in corpus =  746\n"
     ]
    }
   ],
   "source": [
    "# Below is the code to load the cleaned_strings pickle file provided\n",
    "# Here corpus is of list type\n",
    "\n",
    "import pickle\n",
    "with open('cleaned_strings', 'rb') as f:\n",
    "    corpus = pickle.load(f)\n",
    "    \n",
    "# printing the length of the corpus loaded\n",
    "print(\"Number of documents in corpus = \",len(corpus))"
   ]
  },
  {
   "cell_type": "code",
   "execution_count": 34,
   "metadata": {
    "id": "ZULfoOIdxLjQ"
   },
   "outputs": [],
   "source": [
    "\n",
    "def fit(corpus):\n",
    "    \"\"\"\n",
    "        This function finds all unique words in the data , assigns a dimension-number to each unique word \n",
    "        and returns top 50 IDF values for corresponding words \n",
    "    \"\"\"\n",
    "    \n",
    "    unique_words=set()\n",
    "    IDF_list=[]\n",
    "    no_of_docs=len(corpus)\n",
    "    \n",
    "    #loop to find the unique words\n",
    "    for i in corpus:\n",
    "        for j in i.split(\" \"):\n",
    "            unique_words.add(j)\n",
    "                \n",
    "    unique_words=sorted(list(unique_words))\n",
    "    \n",
    "    \n",
    "    #Loop to calcuate the IDF of terms\n",
    "    for i in unique_words:\n",
    "        word_freq_in_docs=0\n",
    "        for j in corpus:\n",
    "            if i in j:\n",
    "                word_freq_in_docs+=1\n",
    "        IDF_list.append(1+math.log((1+no_of_docs)/(1+word_freq_in_docs)))\n",
    "    \n",
    "    #Zipping words and IDF values \n",
    "    IDF_zipped=list(zip(unique_words,IDF_list))\n",
    "    #Sorting in descending order by IDF values \n",
    "    res = sorted(IDF_zipped, key = operator.itemgetter(1),reverse=True)\n",
    "    #Taking the top 50 IDF values \n",
    "    res=res[:50]\n",
    "    #Unzipping words and IDF values\n",
    "    unique_words,IDF_values=list(zip(*res))\n",
    "    #Creating a features vector\n",
    "    features={i:j for j,i in enumerate(unique_words)}\n",
    "    #Creating a IDF vector \n",
    "    IDF={i:j for i,j in res}\n",
    "   \n",
    "    return features,IDF\n",
    "\n",
    "\n",
    "\n",
    "\n"
   ]
  },
  {
   "cell_type": "code",
   "execution_count": 35,
   "metadata": {},
   "outputs": [
    {
     "name": "stdout",
     "output_type": "stream",
     "text": [
      "Features and dimension no\n",
      "{'aailiyah': 0, 'abandoned': 1, 'abroad': 2, 'abstruse': 3, 'academy': 4, 'accents': 5, 'accessible': 6, 'acclaimed': 7, 'accolades': 8, 'accurately': 9, 'achille': 10, 'ackerman': 11, 'adams': 12, 'added': 13, 'admins': 14, 'admiration': 15, 'admitted': 16, 'adrift': 17, 'adventure': 18, 'aesthetically': 19, 'affected': 20, 'affleck': 21, 'afternoon': 22, 'agreed': 23, 'aimless': 24, 'aired': 25, 'akasha': 26, 'alert': 27, 'alike': 28, 'allison': 29, 'allowing': 30, 'alongside': 31, 'amateurish': 32, 'amazed': 33, 'amazingly': 34, 'amusing': 35, 'amust': 36, 'anatomist': 37, 'angela': 38, 'angelina': 39, 'angry': 40, 'anguish': 41, 'angus': 42, 'animals': 43, 'animated': 44, 'anita': 45, 'anniversary': 46, 'anthony': 47, 'antithesis': 48, 'anyway': 49}\n",
      "****************************************************************************************************\n",
      "IDF Values\n",
      "{'aailiyah': 6.922918004572872, 'abandoned': 6.922918004572872, 'abroad': 6.922918004572872, 'abstruse': 6.922918004572872, 'academy': 6.922918004572872, 'accents': 6.922918004572872, 'accessible': 6.922918004572872, 'acclaimed': 6.922918004572872, 'accolades': 6.922918004572872, 'accurately': 6.922918004572872, 'achille': 6.922918004572872, 'ackerman': 6.922918004572872, 'adams': 6.922918004572872, 'added': 6.922918004572872, 'admins': 6.922918004572872, 'admiration': 6.922918004572872, 'admitted': 6.922918004572872, 'adrift': 6.922918004572872, 'adventure': 6.922918004572872, 'aesthetically': 6.922918004572872, 'affected': 6.922918004572872, 'affleck': 6.922918004572872, 'afternoon': 6.922918004572872, 'agreed': 6.922918004572872, 'aimless': 6.922918004572872, 'aired': 6.922918004572872, 'akasha': 6.922918004572872, 'alert': 6.922918004572872, 'alike': 6.922918004572872, 'allison': 6.922918004572872, 'allowing': 6.922918004572872, 'alongside': 6.922918004572872, 'amateurish': 6.922918004572872, 'amazed': 6.922918004572872, 'amazingly': 6.922918004572872, 'amusing': 6.922918004572872, 'amust': 6.922918004572872, 'anatomist': 6.922918004572872, 'angela': 6.922918004572872, 'angelina': 6.922918004572872, 'angry': 6.922918004572872, 'anguish': 6.922918004572872, 'angus': 6.922918004572872, 'animals': 6.922918004572872, 'animated': 6.922918004572872, 'anita': 6.922918004572872, 'anniversary': 6.922918004572872, 'anthony': 6.922918004572872, 'antithesis': 6.922918004572872, 'anyway': 6.922918004572872}\n"
     ]
    }
   ],
   "source": [
    "features,IDF=fit(corpus)\n",
    "print(\"Features and dimension no\")\n",
    "print(features)\n",
    "print(\"*\"*100)\n",
    "print(\"IDF Values\")\n",
    "print(IDF)"
   ]
  },
  {
   "cell_type": "code",
   "execution_count": 36,
   "metadata": {
    "id": "1_DJnnR3xLjR"
   },
   "outputs": [],
   "source": [
    "def transform(corpus,features,IDF):\n",
    "    \n",
    "    \"\"\"\n",
    "        This function returns a TF-IDF vector for all the documents in the dataset as a sparse matrix with 50 features\"\"\"\n",
    "   \n",
    "    rows=[]\n",
    "    columns=[]\n",
    "    values=[]\n",
    "    \n",
    "    #Loop to find the TF-IDF values for each document in the dataset\n",
    "    for i,j in list(enumerate(corpus)):\n",
    "        words_in_doc=j.split(\" \")\n",
    "        doc_size=len(words_in_doc)\n",
    "        for j in set(words_in_doc):\n",
    "            #If words are not there in the top 50 features ignore those words \n",
    "              if features.get(j)!=None:\n",
    "                #Finding the TF value\n",
    "                TF=words_in_doc.count(j)/doc_size\n",
    "                idf=IDF[j]\n",
    "                rows.append(i)\n",
    "                columns.append(features[j])\n",
    "                values.append(TF*idf)\n",
    "        #Returning a sparse matrix for the TF-IDF vectors\n",
    "    return csr_matrix((values, (rows,columns)), shape=(len(corpus),len(features)))\n",
    "        "
   ]
  },
  {
   "cell_type": "code",
   "execution_count": 37,
   "metadata": {},
   "outputs": [
    {
     "name": "stdout",
     "output_type": "stream",
     "text": [
      "Sparse Matrix\n",
      "****************************************************************************************************\n",
      "  (0, 24)\t1.0\n",
      "  (19, 43)\t1.0\n",
      "  (68, 21)\t1.0\n",
      "  (72, 23)\t1.0\n",
      "  (74, 25)\t1.0\n",
      "  (89, 47)\t1.0\n",
      "  (135, 3)\t0.37796447300922725\n",
      "  (135, 9)\t0.37796447300922725\n",
      "  (135, 15)\t0.37796447300922725\n",
      "  (135, 17)\t0.37796447300922725\n",
      "  (135, 29)\t0.37796447300922725\n",
      "  (135, 32)\t0.37796447300922725\n",
      "  (135, 40)\t0.37796447300922725\n",
      "  (176, 39)\t1.0\n",
      "  (192, 18)\t1.0\n",
      "  (193, 20)\t1.0\n",
      "  (216, 2)\t1.0\n",
      "  (225, 16)\t1.0\n",
      "  (227, 14)\t1.0\n",
      "  (241, 35)\t1.0\n",
      "  (270, 1)\t1.0\n",
      "  (290, 22)\t1.0\n",
      "  (341, 34)\t1.0\n",
      "  (344, 33)\t1.0\n",
      "  (348, 8)\t1.0\n",
      "  (409, 5)\t1.0\n",
      "  (430, 31)\t1.0\n",
      "  (457, 36)\t1.0\n",
      "  (461, 4)\t0.7071067811865475\n",
      "  (461, 44)\t0.7071067811865475\n",
      "  (465, 30)\t1.0\n",
      "  (475, 28)\t1.0\n",
      "  (493, 6)\t1.0\n",
      "  (500, 38)\t1.0\n",
      "  (544, 41)\t1.0\n",
      "  (548, 0)\t0.7071067811865475\n",
      "  (548, 26)\t0.7071067811865475\n",
      "  (608, 12)\t1.0\n",
      "  (612, 10)\t1.0\n",
      "  (620, 37)\t0.7071067811865476\n",
      "  (620, 42)\t0.7071067811865476\n",
      "  (632, 7)\t1.0\n",
      "  (644, 11)\t0.5773502691896257\n",
      "  (644, 45)\t0.5773502691896257\n",
      "  (644, 46)\t0.5773502691896257\n",
      "  (667, 19)\t1.0\n",
      "  (691, 27)\t1.0\n",
      "  (699, 48)\t1.0\n",
      "  (722, 13)\t1.0\n",
      "  (735, 49)\t1.0\n",
      "\n",
      "Dense Matrix\n",
      "****************************************************************************************************\n",
      "[[0. 0. 0. ... 0. 0. 0.]\n",
      " [0. 0. 0. ... 0. 0. 0.]\n",
      " [0. 0. 0. ... 0. 0. 0.]\n",
      " ...\n",
      " [0. 0. 0. ... 0. 0. 0.]\n",
      " [0. 0. 0. ... 0. 0. 0.]\n",
      " [0. 0. 0. ... 0. 0. 0.]]\n"
     ]
    }
   ],
   "source": [
    "vector=normalize(transform(corpus,features,IDF), norm='l2', axis=1, copy=True, \n",
    "                 return_norm=False)\n",
    "print(\"Sparse Matrix\")\n",
    "print(\"*\"*100)\n",
    "print(vector)      \n",
    "print(\"\\nDense Matrix\")\n",
    "print(\"*\"*100)\n",
    "#Dense matrix \n",
    "print(vector.toarray())"
   ]
  }
 ],
 "metadata": {
  "colab": {
   "collapsed_sections": [],
   "name": "Assignment_3_Instructions.ipynb",
   "provenance": []
  },
  "kernelspec": {
   "display_name": "Python 3",
   "language": "python",
   "name": "python3"
  },
  "language_info": {
   "codemirror_mode": {
    "name": "ipython",
    "version": 3
   },
   "file_extension": ".py",
   "mimetype": "text/x-python",
   "name": "python",
   "nbconvert_exporter": "python",
   "pygments_lexer": "ipython3",
   "version": "3.6.5"
  }
 },
 "nbformat": 4,
 "nbformat_minor": 1
}
